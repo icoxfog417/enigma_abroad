{
 "cells": [
  {
   "cell_type": "markdown",
   "metadata": {},
   "source": [
    "# Evaluate the Topic Model"
   ]
  },
  {
   "cell_type": "markdown",
   "metadata": {},
   "source": [
    "## Preparation"
   ]
  },
  {
   "cell_type": "code",
   "execution_count": 8,
   "metadata": {
    "collapsed": false
   },
   "outputs": [
    {
     "name": "stdout",
     "output_type": "stream",
     "text": [
      "The autoreload extension is already loaded. To reload it, use:\n",
      "  %reload_ext autoreload\n"
     ]
    }
   ],
   "source": [
    "# enable showing matplotlib image inline\n",
    "%matplotlib inline\n",
    "\n",
    "# autoreload module\n",
    "%load_ext autoreload\n",
    "%autoreload 2\n",
    "\n",
    "PROJECT_ROOT = \"/\"\n",
    "\n",
    "def load_local_package():\n",
    "    import os\n",
    "    import sys\n",
    "    root = os.path.join(os.getcwd(), \"../../\")\n",
    "    sys.path.append(root)  # load project root\n",
    "    return root\n",
    "\n",
    "PROJECT_ROOT = load_local_package()"
   ]
  },
  {
   "cell_type": "markdown",
   "metadata": {},
   "source": [
    "## Load Topic Model"
   ]
  },
  {
   "cell_type": "code",
   "execution_count": 19,
   "metadata": {
    "collapsed": false
   },
   "outputs": [],
   "source": [
    "def load_corpus(file_name, test_size=0.3):\n",
    "    import os\n",
    "    from pola.machine.topic_model import GTopicModel\n",
    "    \n",
    "    path = os.path.join(PROJECT_ROOT, \"./data/\" + file_name)\n",
    "    m = GTopicModel.load(path)    \n",
    "    return m\n",
    "\n",
    "model = load_corpus(\"cityspots_doc_edited_model.gensim\")"
   ]
  },
  {
   "cell_type": "markdown",
   "metadata": {},
   "source": [
    "## Evaluate Topic Model"
   ]
  },
  {
   "cell_type": "code",
   "execution_count": 20,
   "metadata": {
    "collapsed": false
   },
   "outputs": [
    {
     "name": "stdout",
     "output_type": "stream",
     "text": [
      "topic count is 2. perplexity is 395.84454882960137\n"
     ]
    }
   ],
   "source": [
    "# show its perplexity\n",
    "print(\"topic count is {0}. perplexity is {1}\".format(model.topic_count, model.perplexity()))"
   ]
  },
  {
   "cell_type": "markdown",
   "metadata": {},
   "source": [
    "## Visualize Topic Model"
   ]
  },
  {
   "cell_type": "markdown",
   "metadata": {},
   "source": [
    "### Check the distance between each topic\n",
    "\n",
    "If we success to categorize the documents well, then the distance of each topic should be far apart.\n"
   ]
  },
  {
   "cell_type": "code",
   "execution_count": 21,
   "metadata": {
    "collapsed": false
   },
   "outputs": [
    {
     "data": {
      "image/png": "[encoded data removed]",
      "text/plain": [
       "<matplotlib.figure.Figure at 0x890d1d0>"
      ]
     },
     "metadata": {},
     "output_type": "display_data"
    }
   ],
   "source": [
    "def plot_distance_matrix(m):\n",
    "    import numpy as np\n",
    "    import matplotlib.pylab as plt\n",
    "    \n",
    "    # make distance matrix\n",
    "    mt = []\n",
    "    for i in range(m.topic_count):\n",
    "        d = m.calc_distances(i)\n",
    "        d = sorted(d, key=lambda _d: _d[0])\n",
    "        d.insert(i, (i, 0))\n",
    "        d = [_d[1] for _d in d]\n",
    "        mt.append(d)\n",
    "\n",
    "    mt = np.array(mt)\n",
    "    \n",
    "    # plot matrix\n",
    "    fig = plt.figure()\n",
    "    ax = fig.add_subplot(1, 1, 1)\n",
    "    ax.set_aspect(\"equal\")\n",
    "    plt.imshow(mt, interpolation=\"nearest\", cmap=plt.cm.ocean)\n",
    "    plt.yticks(range(mt.shape[0]))\n",
    "    plt.xticks(range(mt.shape[1]))\n",
    "    plt.colorbar()\n",
    "    plt.show()\n",
    "\n",
    "\n",
    "plot_distance_matrix(model)\n"
   ]
  },
  {
   "cell_type": "markdown",
   "metadata": {},
   "source": [
    "### Check the topics in documents\n",
    "\n",
    "If we success to categorize the documents well, each document has one mainly topic.\n"
   ]
  },
  {
   "cell_type": "code",
   "execution_count": 22,
   "metadata": {
    "collapsed": false
   },
   "outputs": [
    {
     "data": {
      "image/png": "[encoded data removed]",
      "text/plain": [
       "<matplotlib.figure.Figure at 0x80b80b8>"
      ]
     },
     "metadata": {},
     "output_type": "display_data"
    }
   ],
   "source": [
    "def show_document_topics(m, sample_size=200, width=1):\n",
    "    import random\n",
    "    import numpy as np\n",
    "    import matplotlib.pylab as plt\n",
    "\n",
    "    # make document/topics matrix\n",
    "    document_topics = []\n",
    "    samples = random.sample(range(len(m.doc.archives)), sample_size)\n",
    "    for i in samples:\n",
    "        ts = m.get_document_topics(i)\n",
    "        document_topics.append([v[1] for v in ts])\n",
    "    \n",
    "    document_topics = np.array(document_topics)\n",
    "    # draw cumulative bar chart\n",
    "    fig = plt.figure(figsize=(20, 3))\n",
    "    N, K = document_topics.shape\n",
    "    indices = np.arange(N)\n",
    "    height = np.zeros(N)\n",
    "    bar = []\n",
    "    for k in range(K):\n",
    "        color = plt.cm.coolwarm(k / K, 1)\n",
    "        p = plt.bar(indices, document_topics[:, k], width, bottom=None if k == 0 else height, color=color)\n",
    "        height += document_topics[:, k]\n",
    "        bar.append(p)\n",
    "    \n",
    "    plt.ylim((0, 1))\n",
    "    plt.xlim((0, document_topics.shape[0]))\n",
    "    topic_labels = ['Topic #{}'.format(k) for k in range(K)]\n",
    "    plt.legend([b[0] for b in bar], topic_labels)\n",
    "    plt.show(bar)\n",
    "\n",
    "show_document_topics(model)\n"
   ]
  },
  {
   "cell_type": "markdown",
   "metadata": {
    "collapsed": true
   },
   "source": [
    "### Visualize words in topics\n",
    "\n",
    "To consider about the name of topic, show the words in topics.\n"
   ]
  },
  {
   "cell_type": "code",
   "execution_count": 23,
   "metadata": {
    "collapsed": false
   },
   "outputs": [
    {
     "data": {
      "image/png": "[encoded data removed]",
      "text/plain": [
       "<matplotlib.figure.Figure at 0x8135940>"
      ]
     },
     "metadata": {},
     "output_type": "display_data"
    },
    {
     "name": "stdout",
     "output_type": "stream",
     "text": [
      "311\n",
      "show topic 0 city spots\n",
      "(0.9971839760167284): マルタ島\n",
      "\t 緑豊かな自然と伝説が残っている島\n",
      "\t 聖ヨハネ騎士団が造ったマルタ共和国の首都\n",
      "\t かつてはマルタの都だった城壁の街\n",
      "\t ムディナを守るために造られた街\n",
      "(0.9961604936551616): アルル\n",
      "\t 中世の面影を残す南仏観光の拠点\n",
      "\t 美しい外観と技術水準の高さに圧倒される\n",
      "(0.9956192846524055): ザルツブルク\n",
      "\t オーストリア・アルプス観光の拠点\n",
      "\t 『サウンド・オブ・ミュージック』の舞台\n",
      "\t 天才音楽家が幼少期を過ごした場所\n",
      "\t 大司教の宮殿を擁する旧市街最大の広場\n",
      "(0.9924223749376977): イースター島\n",
      "\t 天空を見つめる謎に包まれたモアイ像の島\n",
      "(0.98901175367364): ホーチミン\n",
      "\t 迷路のような解放軍の地下基地を歩く\n",
      "\t 「プチパリ」の面影を残すカトリック教会\n",
      "\t ホーチミンでもっとも賑やかなマーケット\n",
      "\t メコンデルタの入り口といわれる街\n",
      "\t 大河の河口に広がる豊かなデルタ地帯の街々\n",
      "\t ベトナム戦争の悲惨さを伝える博物館\n",
      "\t 日本から贈られた巨大な平和の鐘がある寺\n",
      "\t 南北統一を実現した解放軍戦車の無血入城\n",
      "show topic 1 city spots\n",
      "(0.9953450135086772): テヘラン\n",
      "\t 東西の融合した内装をもつ国王の離宮\n",
      "(0.9952466535371117): グアム\n",
      "\t 珊瑚礁に囲まれたマリンスポーツパラダイス\n",
      "\t 花と緑に恵まれた神秘の遺跡が残る南の島\n",
      "\t 「真珠の首飾り」と呼ばれた素朴な環礁の島\n",
      "\t ミクロネシア古来の伝統と風習が残る島\n",
      "\t 素晴らしい眺めの岬はグアムのシンボル\n",
      "(0.9930897324485075): イズミール\n",
      "\t 女神アフロディテゆかりの古代遺跡\n",
      "\t 古代世界七不思議のひとつ、壮大な神殿跡\n",
      "\t 世界でも最大級の見事な古代都市遺跡\n",
      "\t エーゲ海クルーズも停泊する海辺のリゾート\n",
      "\t ホメロスの『イリアス』で名高い木馬の遺跡\n",
      "\t ヘレニズム文化が華ひらいた古代都市\n",
      "\t 聖母マリアが余生を送った家\n",
      "(0.991368549473494): ゲイランゲル\n",
      "\t 切り立った断崖に囲まれたＳ字形フィヨルド\n",
      "(0.9907001431485603): アレキサンドリア\n",
      "\t あのロゼッタストーンが発見された町\n",
      "\t ４つのキリスト教修道院が残る砂漠の中の町\n"
     ]
    }
   ],
   "source": [
    "def visualize_topic(m, word_count=10, fontsize_base=10):\n",
    "    import matplotlib.pylab as plt\n",
    "    from matplotlib.font_manager import FontProperties\n",
    "    font = lambda s: FontProperties(fname=r'C:\\Windows\\Fonts\\meiryo.ttc', size=s)\n",
    "\n",
    "    # get words in topic\n",
    "    topic_words = []\n",
    "    for t in range(m.topic_count):\n",
    "        words = m.get_topic_words(t, topn=word_count)\n",
    "        topic_words.append(words)\n",
    "    \n",
    "    # plot words\n",
    "    fig = plt.figure(figsize=(8, 5))\n",
    "    for i, ws in enumerate(topic_words):\n",
    "        sub = fig.add_subplot(1, m.topic_count, i + 1)\n",
    "        plt.ylim(0, word_count + 0.5)\n",
    "        plt.xticks([])\n",
    "        plt.yticks([])\n",
    "        plt.title(\"Topic #{}\".format(i))\n",
    "        \n",
    "        for j, (share, word) in enumerate(ws):\n",
    "            size = fontsize_base + (fontsize_base * share * 2)\n",
    "            w = \"%s(%1.3f)\" % (word, share)\n",
    "            plt.text(0.3, word_count-j-0.5, w, ha=\"left\", fontproperties=font(size))\n",
    "    \n",
    "    plt.tight_layout()\n",
    "    plt.show()\n",
    "\n",
    "    \n",
    "def show_city_spots(m, show_count=5):\n",
    "    import os\n",
    "    from application.models.spot import CitySpots\n",
    "    \n",
    "    path = os.path.join(PROJECT_ROOT, \"./data/spots.json\")\n",
    "    cityspots = CitySpots.load(path)\n",
    "    print(len(cityspots))\n",
    "    \n",
    "    for t in range(m.topic_count):\n",
    "        indices = m.get_topic_documents(t)\n",
    "        print(\"show topic {0} city spots\".format(t))\n",
    "        for i, r in indices[:show_count]:\n",
    "            print(\"({0}): {1}\".format(r, cityspots[i].city.name))\n",
    "            for s in cityspots[i].spots:\n",
    "                print(\"\\t {0}\".format(s.title))\n",
    "\n",
    "visualize_topic(model)\n",
    "show_city_spots(model)"
   ]
  },
  {
   "cell_type": "code",
   "execution_count": null,
   "metadata": {
    "collapsed": true
   },
   "outputs": [],
   "source": []
  }
 ],
 "metadata": {
  "kernelspec": {
   "display_name": "Python 3",
   "language": "python",
   "name": "python3"
  },
  "language_info": {
   "codemirror_mode": {
    "name": "ipython",
    "version": 3
   },
   "file_extension": ".py",
   "mimetype": "text/x-python",
   "name": "python",
   "nbconvert_exporter": "python",
   "pygments_lexer": "ipython3",
   "version": "3.4.3"
  }
 },
 "nbformat": 4,
 "nbformat_minor": 0
}
