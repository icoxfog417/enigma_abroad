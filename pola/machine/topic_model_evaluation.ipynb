{
 "cells": [
  {
   "cell_type": "markdown",
   "metadata": {},
   "source": [
    "# Evaluate the Topic Model"
   ]
  },
  {
   "cell_type": "markdown",
   "metadata": {},
   "source": [
    "## Preparation"
   ]
  },
  {
   "cell_type": "code",
   "execution_count": 3,
   "metadata": {
    "collapsed": false
   },
   "outputs": [],
   "source": [
    "# enable showing matplotlib image inline\n",
    "%matplotlib inline\n",
    "\n",
    "# autoreload module\n",
    "%load_ext autoreload\n",
    "%autoreload 2\n",
    "\n",
    "PROJECT_ROOT = \"/\"\n",
    "\n",
    "def load_local_package():\n",
    "    import os\n",
    "    import sys\n",
    "    root = os.path.join(os.getcwd(), \"../../\")\n",
    "    sys.path.append(root)  # load project root\n",
    "    return root\n",
    "\n",
    "PROJECT_ROOT = load_local_package()"
   ]
  },
  {
   "cell_type": "markdown",
   "metadata": {},
   "source": [
    "## Load Topic Model"
   ]
  },
  {
   "cell_type": "code",
   "execution_count": 4,
   "metadata": {
    "collapsed": false
   },
   "outputs": [],
   "source": [
    "def load_corpus(file_name, test_size=0.3):\n",
    "    import os\n",
    "    from pola.machine.topic_model import GTopicModel\n",
    "    \n",
    "    path = os.path.join(PROJECT_ROOT, \"./data/\" + file_name)\n",
    "    m = GTopicModel.load(path)    \n",
    "    return m\n",
    "\n",
    "model = load_corpus(\"cityspots_doc_edited_model.gensim\")"
   ]
  },
  {
   "cell_type": "markdown",
   "metadata": {},
   "source": [
    "## Evaluate Topic Model"
   ]
  },
  {
   "cell_type": "code",
   "execution_count": 5,
   "metadata": {
    "collapsed": false
   },
   "outputs": [
    {
     "name": "stdout",
     "output_type": "stream",
     "text": [
      "topic count is 2. perplexity is 357.3167026134721\n"
     ]
    }
   ],
   "source": [
    "# show its perplexity\n",
    "print(\"topic count is {0}. perplexity is {1}\".format(model.topic_count, model.perplexity()))"
   ]
  },
  {
   "cell_type": "markdown",
   "metadata": {},
   "source": [
    "## Visualize Topic Model"
   ]
  },
  {
   "cell_type": "markdown",
   "metadata": {},
   "source": [
    "### Check the distance between each topic\n",
    "\n",
    "If we success to categorize the documents well, then the distance of each topic should be far apart.\n"
   ]
  },
  {
   "cell_type": "code",
   "execution_count": 6,
   "metadata": {
    "collapsed": false
   },
   "outputs": [
    {
     "data": {
      "image/png": "[encoded data removed]",
      "text/plain": [
       "<matplotlib.figure.Figure at 0x3136530>"
      ]
     },
     "metadata": {},
     "output_type": "display_data"
    }
   ],
   "source": [
    "def plot_distance_matrix(m):\n",
    "    import numpy as np\n",
    "    import matplotlib.pylab as plt\n",
    "    \n",
    "    # make distance matrix\n",
    "    mt = []\n",
    "    for i in range(m.topic_count):\n",
    "        d = m.calc_distances(i)\n",
    "        d = sorted(d, key=lambda _d: _d[0])\n",
    "        d.insert(i, (i, 0))\n",
    "        d = [_d[1] for _d in d]\n",
    "        mt.append(d)\n",
    "\n",
    "    mt = np.array(mt)\n",
    "    \n",
    "    # plot matrix\n",
    "    fig = plt.figure()\n",
    "    ax = fig.add_subplot(1, 1, 1)\n",
    "    ax.set_aspect(\"equal\")\n",
    "    plt.imshow(mt, interpolation=\"nearest\", cmap=plt.cm.ocean)\n",
    "    plt.yticks(range(mt.shape[0]))\n",
    "    plt.xticks(range(mt.shape[1]))\n",
    "    plt.colorbar()\n",
    "    plt.show()\n",
    "\n",
    "\n",
    "plot_distance_matrix(model)\n"
   ]
  },
  {
   "cell_type": "markdown",
   "metadata": {},
   "source": [
    "### Check the topics in documents\n",
    "\n",
    "If we success to categorize the documents well, each document has one mainly topic.\n"
   ]
  },
  {
   "cell_type": "code",
   "execution_count": 7,
   "metadata": {
    "collapsed": false
   },
   "outputs": [
    {
     "data": {
      "image/png": "[encoded data removed]",
      "text/plain": [
       "<matplotlib.figure.Figure at 0x3195b70>"
      ]
     },
     "metadata": {},
     "output_type": "display_data"
    }
   ],
   "source": [
    "def show_document_topics(m, sample_size=200, width=1):\n",
    "    import random\n",
    "    import numpy as np\n",
    "    import matplotlib.pylab as plt\n",
    "\n",
    "    # make document/topics matrix\n",
    "    document_topics = []\n",
    "    samples = random.sample(range(len(m.doc.archives)), sample_size)\n",
    "    for i in samples:\n",
    "        ts = m.get_document_topics(i)\n",
    "        document_topics.append([v[1] for v in ts])\n",
    "    \n",
    "    document_topics = np.array(document_topics)\n",
    "    # draw cumulative bar chart\n",
    "    fig = plt.figure(figsize=(20, 3))\n",
    "    N, K = document_topics.shape\n",
    "    indices = np.arange(N)\n",
    "    height = np.zeros(N)\n",
    "    bar = []\n",
    "    for k in range(K):\n",
    "        color = plt.cm.coolwarm(k / K, 1)\n",
    "        p = plt.bar(indices, document_topics[:, k], width, bottom=None if k == 0 else height, color=color)\n",
    "        height += document_topics[:, k]\n",
    "        bar.append(p)\n",
    "    \n",
    "    plt.ylim((0, 1))\n",
    "    plt.xlim((0, document_topics.shape[0]))\n",
    "    topic_labels = ['Topic #{}'.format(k) for k in range(K)]\n",
    "    plt.legend([b[0] for b in bar], topic_labels)\n",
    "    plt.show(bar)\n",
    "\n",
    "show_document_topics(model)\n"
   ]
  },
  {
   "cell_type": "markdown",
   "metadata": {
    "collapsed": true
   },
   "source": [
    "### Visualize words in topics\n",
    "\n",
    "To consider about the name of topic, show the words in topics.\n"
   ]
  },
  {
   "cell_type": "code",
   "execution_count": 8,
   "metadata": {
    "collapsed": false
   },
   "outputs": [
    {
     "data": {
      "image/png": "[encoded data removed]",
      "text/plain": [
       "<matplotlib.figure.Figure at 0xd3be810>"
      ]
     },
     "metadata": {},
     "output_type": "display_data"
    },
    {
     "name": "stdout",
     "output_type": "stream",
     "text": [
      "311\n",
      "show topic 0 city spots\n",
      "(0.9956367990633604): ブルージュ\n",
      "\t 当時の栄華を伝える建造物や絵画を鑑賞\n",
      "\t 「北のベニス」と呼ばれる美しい街\n",
      "(0.9942980996344052): ジャマイカ\n",
      "\t 豊かな水源が育む緑あふれるリゾート\n",
      "\t 滝を上って天然ウォータースライダー遊び\n",
      "(0.9933328382846518): 拉薩（ラサ）\n",
      "\t チベット仏教発祥地、ラサ三大寺院のひとつ\n",
      "\t ダライ・ラマの夏の離宮は人々の憩いの場\n",
      "\t ダライ・ラマの黄金の宮殿、チベットの華\n",
      "\t 世界的規模の大僧院は歴代ダライラマの母寺\n",
      "\t チベット人の聖地と仲見世・巡礼の街\n",
      "(0.9933081708614864): マンチェスター\n",
      "\t イギリス最初のサッカー博物館\n",
      "(0.9931186558707628): オークランド\n",
      "\t 登山、スキー、北島のアウトドアの中心地\n",
      "\t 露天風呂もある温泉レジャー施設\n",
      "\t 洞窟の暗闇に浮かぶ幻想的なツチボタルの光\n",
      "\t まさに地球の鼓動、豪快に噴き上げる間欠泉\n",
      "show topic 1 city spots\n",
      "(0.9969898447129556): ロサンゼルス\n",
      "\t 山と湖が織りなす雄大な自然を堪能\n",
      "\t 宝石をちりばめたようなＬＡの夜景を観賞\n",
      "\t 海辺やお洒落な通りは１日かけて遊びたい\n",
      "\t 長寿の巨木セコイアが見どころの国立公園\n",
      "\t ワールドプレミアが行われる中国風映画館\n",
      "\t おもしろハリウッド映画をライドで体験\n",
      "\t ファンタジーの世界が現実になった遊園地\n",
      "\t 水のない高温の盆地にできた死の谷\n",
      "\t ドジャードッグや寿司をほおばり野球観戦\n",
      "\t 映画スターが豪邸を構える高級住宅街\n",
      "\t 世界最大の停泊数を誇る洗練されたマリーナ\n",
      "\t 映画にちなんだハイテクなアトラクション\n",
      "\t プリティウーマンよろしく高級店でお買い物\n",
      "(0.9963723531498054): パース\n",
      "\t イルカと泳げるドルフィンパラダイス\n",
      "\t 小さな白い二枚貝でできた不思議なビーチ\n",
      "\t 海を思わせる穏やかな川をリバークルーズ\n",
      "\t 地球がつくった幻想的な光景が見られる入江\n",
      "\t 自然の驚異を感じずにはいられない奇岩群\n",
      "\t 開拓時代の港町の面影を残す平和な街\n",
      "\t 母子で遊びにくるイルカにタッチ！\n",
      "\t 車乗り入れ禁止の島は野生のクオッカが名物\n",
      "(0.9946031771476381): ハミルトン島\n",
      "\t 青い海に浮かぶハート型を上空から眺めよう\n",
      "\t 真っ青な海に弧を描く純白のビーチ\n",
      "(0.9942654820476103): ポカラ\n",
      "\t 白き神々の座、登山家憧れのヒマラヤ山脈\n",
      "(0.993640437056423): ストラトフォードアポンエイボン\n",
      "\t 中世の英雄ロビン・フッドが活躍した舞台\n",
      "\t シェークスピアが洗礼を受け、永眠する教会\n"
     ]
    }
   ],
   "source": [
    "def visualize_topic(m, word_count=10, fontsize_base=10):\n",
    "    import matplotlib.pylab as plt\n",
    "    from matplotlib.font_manager import FontProperties\n",
    "    font = lambda s: FontProperties(fname=r'C:\\Windows\\Fonts\\meiryo.ttc', size=s)\n",
    "\n",
    "    # get words in topic\n",
    "    topic_words = []\n",
    "    for t in range(m.topic_count):\n",
    "        words = m.get_topic_words(t, topn=word_count)\n",
    "        topic_words.append(words)\n",
    "    \n",
    "    # plot words\n",
    "    fig = plt.figure(figsize=(8, 5))\n",
    "    for i, ws in enumerate(topic_words):\n",
    "        sub = fig.add_subplot(1, m.topic_count, i + 1)\n",
    "        plt.ylim(0, word_count + 0.5)\n",
    "        plt.xticks([])\n",
    "        plt.yticks([])\n",
    "        plt.title(\"Topic #{}\".format(i))\n",
    "        \n",
    "        for j, (share, word) in enumerate(ws):\n",
    "            size = fontsize_base + (fontsize_base * share * 2)\n",
    "            w = \"%s(%1.3f)\" % (word, share)\n",
    "            plt.text(0.3, word_count-j-0.5, w, ha=\"left\", fontproperties=font(size))\n",
    "    \n",
    "    plt.tight_layout()\n",
    "    plt.show()\n",
    "\n",
    "    \n",
    "def show_city_spots(m, show_count=5):\n",
    "    import os\n",
    "    from application.models.spot import CitySpots\n",
    "    \n",
    "    path = os.path.join(PROJECT_ROOT, \"./data/spots.json\")\n",
    "    cityspots = CitySpots.load(path)\n",
    "    print(len(cityspots))\n",
    "    \n",
    "    for t in range(m.topic_count):\n",
    "        indices = m.get_topic_documents(t)\n",
    "        print(\"show topic {0} city spots\".format(t))\n",
    "        for i, r in indices[:show_count]:\n",
    "            print(\"({0}): {1}\".format(r, cityspots[i].city.name))\n",
    "            for s in cityspots[i].spots:\n",
    "                print(\"\\t {0}\".format(s.title))\n",
    "\n",
    "visualize_topic(model)\n",
    "show_city_spots(model)"
   ]
  },
  {
   "cell_type": "code",
   "execution_count": null,
   "metadata": {
    "collapsed": true
   },
   "outputs": [],
   "source": []
  }
 ],
 "metadata": {
  "kernelspec": {
   "display_name": "Python 3",
   "language": "python",
   "name": "python3"
  },
  "language_info": {
   "codemirror_mode": {
    "name": "ipython",
    "version": 3
   },
   "file_extension": ".py",
   "mimetype": "text/x-python",
   "name": "python",
   "nbconvert_exporter": "python",
   "pygments_lexer": "ipython3",
   "version": "3.4.3"
  }
 },
 "nbformat": 4,
 "nbformat_minor": 0
}
