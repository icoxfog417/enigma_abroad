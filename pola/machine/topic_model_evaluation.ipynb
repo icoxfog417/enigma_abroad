{
 "cells": [
  {
   "cell_type": "markdown",
   "metadata": {},
   "source": [
    "# Evaluate the Topic Model"
   ]
  },
  {
   "cell_type": "markdown",
   "metadata": {},
   "source": [
    "## Preparation"
   ]
  },
  {
   "cell_type": "code",
   "execution_count": 1,
   "metadata": {
    "collapsed": false
   },
   "outputs": [],
   "source": [
    "# enable showing matplotlib image inline\n",
    "%matplotlib inline\n",
    "\n",
    "# autoreload module\n",
    "%load_ext autoreload\n",
    "%autoreload 2\n",
    "\n",
    "PROJECT_ROOT = \"/\"\n",
    "\n",
    "def load_local_package():\n",
    "    import os\n",
    "    import sys\n",
    "    root = os.path.join(os.getcwd(), \"../../\")\n",
    "    sys.path.append(root)  # load project root\n",
    "    return root\n",
    "\n",
    "PROJECT_ROOT = load_local_package()"
   ]
  },
  {
   "cell_type": "markdown",
   "metadata": {},
   "source": [
    "## Load Topic Model"
   ]
  },
  {
   "cell_type": "code",
   "execution_count": 31,
   "metadata": {
    "collapsed": false
   },
   "outputs": [],
   "source": [
    "def load_corpus(file_name, test_size=0.3):\n",
    "    import os\n",
    "    from pola.machine.topic_model import GTopicModel\n",
    "    \n",
    "    path = os.path.join(PROJECT_ROOT, \"./data/\" + file_name)\n",
    "    m = GTopicModel.load(path)    \n",
    "    return m\n",
    "\n",
    "model = load_corpus(\"cityspots_doc_edited_model.gensim\")"
   ]
  },
  {
   "cell_type": "markdown",
   "metadata": {},
   "source": [
    "## Evaluate Topic Model"
   ]
  },
  {
   "cell_type": "code",
   "execution_count": 32,
   "metadata": {
    "collapsed": false
   },
   "outputs": [
    {
     "name": "stdout",
     "output_type": "stream",
     "text": [
      "topic count is 2. perplexity is 423.30996271953063\n"
     ]
    }
   ],
   "source": [
    "# show its perplexity\n",
    "print(\"topic count is {0}. perplexity is {1}\".format(model.topic_count, model.perplexity()))"
   ]
  },
  {
   "cell_type": "markdown",
   "metadata": {},
   "source": [
    "## Visualize Topic Model"
   ]
  },
  {
   "cell_type": "markdown",
   "metadata": {},
   "source": [
    "### Check the distance between each topic\n",
    "\n",
    "If we success to categorize the documents well, then the distance of each topic should be far apart.\n"
   ]
  },
  {
   "cell_type": "code",
   "execution_count": 33,
   "metadata": {
    "collapsed": false
   },
   "outputs": [
    {
     "data": {
      "image/png": "[encoded data removed]",
      "text/plain": [
       "<matplotlib.figure.Figure at 0x83ba128>"
      ]
     },
     "metadata": {},
     "output_type": "display_data"
    }
   ],
   "source": [
    "def plot_distance_matrix(m):\n",
    "    import numpy as np\n",
    "    import matplotlib.pylab as plt\n",
    "    \n",
    "    # make distance matrix\n",
    "    mt = []\n",
    "    for i in range(m.topic_count):\n",
    "        d = m.calc_distances(i)\n",
    "        d = sorted(d, key=lambda _d: _d[0])\n",
    "        d.insert(i, (i, 0))\n",
    "        d = [_d[1] for _d in d]\n",
    "        mt.append(d)\n",
    "\n",
    "    mt = np.array(mt)\n",
    "    \n",
    "    # plot matrix\n",
    "    fig = plt.figure()\n",
    "    ax = fig.add_subplot(1, 1, 1)\n",
    "    ax.set_aspect(\"equal\")\n",
    "    plt.imshow(mt, interpolation=\"nearest\", cmap=plt.cm.ocean)\n",
    "    plt.yticks(range(mt.shape[0]))\n",
    "    plt.xticks(range(mt.shape[1]))\n",
    "    plt.colorbar()\n",
    "    plt.show()\n",
    "\n",
    "\n",
    "plot_distance_matrix(model)\n"
   ]
  },
  {
   "cell_type": "markdown",
   "metadata": {},
   "source": [
    "### Check the topics in documents\n",
    "\n",
    "If we success to categorize the documents well, each document has one mainly topic.\n"
   ]
  },
  {
   "cell_type": "code",
   "execution_count": 34,
   "metadata": {
    "collapsed": false
   },
   "outputs": [
    {
     "data": {
      "image/png": "[encoded data removed]",
      "text/plain": [
       "<matplotlib.figure.Figure at 0x81425c0>"
      ]
     },
     "metadata": {},
     "output_type": "display_data"
    }
   ],
   "source": [
    "def show_document_topics(m, sample_size=200, width=1):\n",
    "    import random\n",
    "    import numpy as np\n",
    "    import matplotlib.pylab as plt\n",
    "\n",
    "    # make document/topics matrix\n",
    "    document_topics = []\n",
    "    samples = random.sample(range(len(m.doc.archives)), sample_size)\n",
    "    for i in samples:\n",
    "        ts = m.get_document_topics(i)\n",
    "        document_topics.append([v[1] for v in ts])\n",
    "    \n",
    "    document_topics = np.array(document_topics)\n",
    "    # draw cumulative bar chart\n",
    "    fig = plt.figure(figsize=(20, 3))\n",
    "    N, K = document_topics.shape\n",
    "    indices = np.arange(N)\n",
    "    height = np.zeros(N)\n",
    "    bar = []\n",
    "    for k in range(K):\n",
    "        color = plt.cm.coolwarm(k / K, 1)\n",
    "        p = plt.bar(indices, document_topics[:, k], width, bottom=None if k == 0 else height, color=color)\n",
    "        height += document_topics[:, k]\n",
    "        bar.append(p)\n",
    "    \n",
    "    plt.ylim((0, 1))\n",
    "    plt.xlim((0, document_topics.shape[0]))\n",
    "    topic_labels = ['Topic #{}'.format(k) for k in range(K)]\n",
    "    plt.legend([b[0] for b in bar], topic_labels)\n",
    "    plt.show(bar)\n",
    "\n",
    "show_document_topics(model)\n"
   ]
  },
  {
   "cell_type": "markdown",
   "metadata": {
    "collapsed": true
   },
   "source": [
    "### Visualize words in topics\n",
    "\n",
    "To consider about the name of topic, show the words in topics.\n"
   ]
  },
  {
   "cell_type": "code",
   "execution_count": 38,
   "metadata": {
    "collapsed": false
   },
   "outputs": [
    {
     "data": {
      "image/png": "[encoded data removed]",
      "text/plain": [
       "<matplotlib.figure.Figure at 0x8490fd0>"
      ]
     },
     "metadata": {},
     "output_type": "display_data"
    },
    {
     "name": "stdout",
     "output_type": "stream",
     "text": [
      "311\n",
      "show topic 0 city spots\n"
     ]
    },
    {
     "ename": "IndexError",
     "evalue": "list index out of range",
     "output_type": "error",
     "traceback": [
      "\u001b[1;31m---------------------------------------------------------------------------\u001b[0m",
      "\u001b[1;31mIndexError\u001b[0m                                Traceback (most recent call last)",
      "\u001b[1;32m<ipython-input-38-7b4d21f0f1cb>\u001b[0m in \u001b[0;36m<module>\u001b[1;34m()\u001b[0m\n\u001b[0;32m     45\u001b[0m \u001b[1;33m\u001b[0m\u001b[0m\n\u001b[0;32m     46\u001b[0m \u001b[0mvisualize_topic\u001b[0m\u001b[1;33m(\u001b[0m\u001b[0mmodel\u001b[0m\u001b[1;33m)\u001b[0m\u001b[1;33m\u001b[0m\u001b[0m\n\u001b[1;32m---> 47\u001b[1;33m \u001b[0mshow_city_spots\u001b[0m\u001b[1;33m(\u001b[0m\u001b[0mmodel\u001b[0m\u001b[1;33m)\u001b[0m\u001b[1;33m\u001b[0m\u001b[0m\n\u001b[0m",
      "\u001b[1;32m<ipython-input-38-7b4d21f0f1cb>\u001b[0m in \u001b[0;36mshow_city_spots\u001b[1;34m(m, show_count)\u001b[0m\n\u001b[0;32m     40\u001b[0m         \u001b[0mprint\u001b[0m\u001b[1;33m(\u001b[0m\u001b[1;34m\"show topic {0} city spots\"\u001b[0m\u001b[1;33m.\u001b[0m\u001b[0mformat\u001b[0m\u001b[1;33m(\u001b[0m\u001b[0mt\u001b[0m\u001b[1;33m)\u001b[0m\u001b[1;33m)\u001b[0m\u001b[1;33m\u001b[0m\u001b[0m\n\u001b[0;32m     41\u001b[0m         \u001b[1;32mfor\u001b[0m \u001b[0mi\u001b[0m\u001b[1;33m,\u001b[0m \u001b[0mr\u001b[0m \u001b[1;32min\u001b[0m \u001b[0mindices\u001b[0m\u001b[1;33m[\u001b[0m\u001b[1;33m:\u001b[0m\u001b[0mshow_count\u001b[0m\u001b[1;33m]\u001b[0m\u001b[1;33m:\u001b[0m\u001b[1;33m\u001b[0m\u001b[0m\n\u001b[1;32m---> 42\u001b[1;33m             \u001b[0mprint\u001b[0m\u001b[1;33m(\u001b[0m\u001b[1;34m\"({0}): {1}\"\u001b[0m\u001b[1;33m.\u001b[0m\u001b[0mformat\u001b[0m\u001b[1;33m(\u001b[0m\u001b[0mr\u001b[0m\u001b[1;33m,\u001b[0m \u001b[0mcityspots\u001b[0m\u001b[1;33m[\u001b[0m\u001b[0mi\u001b[0m\u001b[1;33m]\u001b[0m\u001b[1;33m.\u001b[0m\u001b[0mcity\u001b[0m\u001b[1;33m.\u001b[0m\u001b[0mname\u001b[0m\u001b[1;33m)\u001b[0m\u001b[1;33m)\u001b[0m\u001b[1;33m\u001b[0m\u001b[0m\n\u001b[0m\u001b[0;32m     43\u001b[0m             \u001b[1;32mfor\u001b[0m \u001b[0ms\u001b[0m \u001b[1;32min\u001b[0m \u001b[0mcityspots\u001b[0m\u001b[1;33m[\u001b[0m\u001b[0mi\u001b[0m\u001b[1;33m]\u001b[0m\u001b[1;33m.\u001b[0m\u001b[0mspots\u001b[0m\u001b[1;33m:\u001b[0m\u001b[1;33m\u001b[0m\u001b[0m\n\u001b[0;32m     44\u001b[0m                 \u001b[0mprint\u001b[0m\u001b[1;33m(\u001b[0m\u001b[1;34m\"\\t {0}\"\u001b[0m\u001b[1;33m.\u001b[0m\u001b[0mformat\u001b[0m\u001b[1;33m(\u001b[0m\u001b[0ms\u001b[0m\u001b[1;33m.\u001b[0m\u001b[0mtitle\u001b[0m\u001b[1;33m)\u001b[0m\u001b[1;33m)\u001b[0m\u001b[1;33m\u001b[0m\u001b[0m\n",
      "\u001b[1;31mIndexError\u001b[0m: list index out of range"
     ]
    }
   ],
   "source": [
    "def visualize_topic(m, word_count=10, fontsize_base=10):\n",
    "    import matplotlib.pylab as plt\n",
    "    from matplotlib.font_manager import FontProperties\n",
    "    font = lambda s: FontProperties(fname=r'C:\\Windows\\Fonts\\meiryo.ttc', size=s)\n",
    "\n",
    "    # get words in topic\n",
    "    topic_words = []\n",
    "    for t in range(m.topic_count):\n",
    "        words = m.get_topic_words(t, topn=word_count)\n",
    "        topic_words.append(words)\n",
    "    \n",
    "    # plot words\n",
    "    fig = plt.figure(figsize=(8, 5))\n",
    "    for i, ws in enumerate(topic_words):\n",
    "        sub = fig.add_subplot(1, m.topic_count, i + 1)\n",
    "        plt.ylim(0, word_count + 0.5)\n",
    "        plt.xticks([])\n",
    "        plt.yticks([])\n",
    "        plt.title(\"Topic #{}\".format(i))\n",
    "        \n",
    "        for j, (share, word) in enumerate(ws):\n",
    "            size = fontsize_base + (fontsize_base * share * 2)\n",
    "            w = \"%s(%1.3f)\" % (word, share)\n",
    "            plt.text(0.3, word_count-j-0.5, w, ha=\"left\", fontproperties=font(size))\n",
    "    \n",
    "    plt.tight_layout()\n",
    "    plt.show()\n",
    "\n",
    "    \n",
    "def show_city_spots(m, show_count=5):\n",
    "    import os\n",
    "    from application.models.spot import CitySpots\n",
    "    \n",
    "    path = os.path.join(PROJECT_ROOT, \"./data/spots.json\")\n",
    "    cityspots = CitySpots.load(path)\n",
    "    print(len(cityspots))\n",
    "    \n",
    "    for t in range(m.topic_count):\n",
    "        indices = m.get_topic_documents(t)\n",
    "        print(\"show topic {0} city spots\".format(t))\n",
    "        for i, r in indices[:show_count]:\n",
    "            print(\"({0}): {1}\".format(r, cityspots[i].city.name))\n",
    "            for s in cityspots[i].spots:\n",
    "                print(\"\\t {0}\".format(s.title))\n",
    "\n",
    "visualize_topic(model)\n",
    "show_city_spots(model)"
   ]
  },
  {
   "cell_type": "code",
   "execution_count": null,
   "metadata": {
    "collapsed": true
   },
   "outputs": [],
   "source": []
  }
 ],
 "metadata": {
  "kernelspec": {
   "display_name": "Python 3",
   "language": "python",
   "name": "python3"
  },
  "language_info": {
   "codemirror_mode": {
    "name": "ipython",
    "version": 3
   },
   "file_extension": ".py",
   "mimetype": "text/x-python",
   "name": "python",
   "nbconvert_exporter": "python",
   "pygments_lexer": "ipython3",
   "version": "3.4.3"
  }
 },
 "nbformat": 4,
 "nbformat_minor": 0
}
